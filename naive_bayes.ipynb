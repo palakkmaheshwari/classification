{
 "cells": [
  {
   "cell_type": "code",
   "execution_count": 2,
   "id": "de5f9f1b-6fa5-4a12-97bb-e0ef0a3904dc",
   "metadata": {},
   "outputs": [],
   "source": [
    "# Libraries\n",
    "\n",
    "import matplotlib.pyplot as plt\n",
    "import matplotlib.image as img\n",
    "import numpy as np\n",
    "import pandas as pd\n",
    "\n",
    "from sklearn.model_selection import train_test_split, GridSearchCV\n",
    "from sklearn.datasets import fetch_20newsgroups, make_classification\n",
    "from sklearn.feature_extraction.text import CountVectorizer\n",
    "from sklearn.pipeline import Pipeline\n",
    "from sklearn.naive_bayes import GaussianNB, MultinomialNB, BernoulliNB\n",
    "from sklearn.metrics import accuracy_score"
   ]
  },
  {
   "cell_type": "markdown",
   "id": "24c1cc10-1725-44b5-9eb4-c51fcd70d396",
   "metadata": {},
   "source": [
    "### Naive Bayes Algorithm\n",
    "\n",
    "`Naive Bayes Theorem is a probabilistic machine learning algorithm based on Bayes’ Theorem, with a strong assumption of feature independence.`\n",
    "\n",
    "`Bayes theorem helps us calculate the probability of a class given some evidence.`"
   ]
  },
  {
   "cell_type": "markdown",
   "id": "2f0dea56-f289-4442-a589-994b785f9158",
   "metadata": {},
   "source": [
    "### Bernouli Naive Bayes from Scratch"
   ]
  },
  {
   "cell_type": "code",
   "execution_count": 1,
   "id": "6a226cab-9f5b-4f76-8165-63cc1c659720",
   "metadata": {},
   "outputs": [],
   "source": [
    "def bernouliNB(df,target):\n",
    "    '''\n",
    "    Input: dataframe and target name\n",
    "    Output: naive bayes of asked conditions\n",
    "    '''\n",
    "    # Data seperated according to target\n",
    "    target_1 = (df[df[target] == df[target].unique()[0]])\n",
    "    target_2 = (df[df[target] == df[target].unique()[1]])\n",
    "\n",
    "    # Create all the data for calculating the probility\n",
    "    probabilities = {}\n",
    "    probabilities1 = {}\n",
    "    for i in df.columns:\n",
    "        if i != target:\n",
    "            # Split data on the basis of target\n",
    "            temp = target_1.groupby([target, i]).size().reset_index()\n",
    "            temp1 = target_2.groupby([target, i]).size().reset_index()\n",
    "    \n",
    "            # Create feature\n",
    "            a, aa = temp.columns[0], temp1.columns[0]\n",
    "            b, bb = temp.columns[1], temp1.columns[1]\n",
    "            temp['F'] = b + '_' + temp[i]\n",
    "            temp1['F'] = bb + '_' + temp1[i]\n",
    "    \n",
    "            # Drop efeatures after merging\n",
    "            temp.drop([a,b], axis = 1, inplace= True)\n",
    "            temp1.drop([aa,bb], axis = 1, inplace= True)\n",
    "    \n",
    "            for i in range(len(temp)):\n",
    "                probabilities[temp.iloc[i]['F']] = temp.iloc[i][0]\n",
    "            for i in range(len(temp1)):\n",
    "                probabilities1[temp1.iloc[i]['F']] = temp1.iloc[i][0]\n",
    "\n",
    "    #  Input from user\n",
    "    n = int(input('Please tell your number of conditions: \\n'))\n",
    "\n",
    "    # All conditions for options\n",
    "    pro = sorted(list(set(list(probabilities.keys()) + list(probabilities1.keys()))))\n",
    "    # To give on line by line\n",
    "    for i in pro:\n",
    "        print(i)\n",
    "    print()\n",
    "    \n",
    "    conditions = []\n",
    "    for i in range(n):\n",
    "        conditions.append(input(f'Enter {i+1} conditions from above options:\\n'))\n",
    "        print()\n",
    "\n",
    "    # Calculation of naive bayes using laplace\n",
    "    result = 1\n",
    "    result1 = 1\n",
    "    for i in range(n):\n",
    "        if conditions[i] in probabilities.keys():\n",
    "            result *= ((probabilities[conditions[i]] + 1) / (df[target].value_counts()[df[target].unique()[0]] + 2))\n",
    "        else:\n",
    "            result *= ((0 + 1) / (df[target].value_counts()[df[target].unique()[0]] + 2))\n",
    "            \n",
    "        if conditions[i] in probabilities1.keys():\n",
    "            result1 *= ((probabilities1[conditions[i]] + 1) / (df[target].value_counts()[df[target].unique()[1]] + 2))\n",
    "        else:\n",
    "            result1 *= ((0 + 1) / (df[target].value_counts()[df[target].unique()[1]] + 2))\n",
    "\n",
    "    return f\"Probability for {df[target].unique()[0]} is {result} and {df[target].unique()[1]} is {result1}\""
   ]
  },
  {
   "cell_type": "code",
   "execution_count": 32,
   "id": "88be85c8-aaa5-451b-9c71-d158d2a3cdf2",
   "metadata": {
    "scrolled": true
   },
   "outputs": [
    {
     "name": "stdin",
     "output_type": "stream",
     "text": [
      "Please tell your number of conditions: \n",
      " 2\n"
     ]
    },
    {
     "name": "stdout",
     "output_type": "stream",
     "text": [
      "big_star_no\n",
      "big_star_yes\n",
      "high_budget_no\n",
      "high_budget_yes\n",
      "movie_m1\n",
      "movie_m2\n",
      "movie_m3\n",
      "movie_m4\n",
      "movie_m5\n",
      "popular_director_no\n",
      "popular_director_yes\n",
      "\n"
     ]
    },
    {
     "name": "stdin",
     "output_type": "stream",
     "text": [
      "Enter 1 conditions from above options:\n",
      " movie_m1\n"
     ]
    },
    {
     "name": "stdout",
     "output_type": "stream",
     "text": [
      "\n"
     ]
    },
    {
     "name": "stdin",
     "output_type": "stream",
     "text": [
      "Enter 2 conditions from above options:\n",
      " popular_director_yes\n"
     ]
    },
    {
     "name": "stdout",
     "output_type": "stream",
     "text": [
      "\n"
     ]
    },
    {
     "data": {
      "text/plain": [
       "'Probability for hit is 0.25 and flop is 0.12'"
      ]
     },
     "execution_count": 32,
     "metadata": {},
     "output_type": "execute_result"
    }
   ],
   "source": [
    "bernouliNB(movie_review_data, 'target')"
   ]
  },
  {
   "cell_type": "code",
   "execution_count": 28,
   "id": "f3c15276-df31-444e-b050-1436b9d117a0",
   "metadata": {
    "scrolled": true
   },
   "outputs": [
    {
     "name": "stdin",
     "output_type": "stream",
     "text": [
      "Please tell your number of conditions: \n",
      " 1\n"
     ]
    },
    {
     "name": "stdout",
     "output_type": "stream",
     "text": [
      "has_netflix_0\n",
      "has_netflix_1\n",
      "like_action_0\n",
      "like_action_1\n",
      "like_romance_0\n",
      "like_romance_1\n",
      "\n"
     ]
    },
    {
     "name": "stdin",
     "output_type": "stream",
     "text": [
      "Enter 1 conditions from above options:\n",
      " has_netflix_0\n"
     ]
    },
    {
     "name": "stdout",
     "output_type": "stream",
     "text": [
      "\n"
     ]
    },
    {
     "data": {
      "text/plain": [
       "'Probability for yes is 0.2 and no is 0.75'"
      ]
     },
     "execution_count": 28,
     "metadata": {},
     "output_type": "execute_result"
    }
   ],
   "source": [
    "bernouliNB(movie_data, 'will_watch')"
   ]
  },
  {
   "cell_type": "markdown",
   "id": "efd51f62-df00-49ba-ae7d-11627140c379",
   "metadata": {},
   "source": [
    "### GaussianNB from Scratch"
   ]
  },
  {
   "cell_type": "code",
   "execution_count": 67,
   "id": "f78b5d6e-469e-4d58-b06a-8433cbd14eb2",
   "metadata": {},
   "outputs": [
    {
     "name": "stdout",
     "output_type": "stream",
     "text": [
      "{'Fail': [(4.5, 0.25), (5.5, 0.25)], 'Pass': [(9.5, 0.25), (7.5, 0.25)]}\n",
      "Predicted class: Fail\n",
      "Class probabilities: {'Fail': 0.002144755142391309, 'Pass': 8.096739227061666e-14}\n"
     ]
    }
   ],
   "source": [
    "# Dataset: [Study Hours, Sleep Hours], Label\n",
    "data = [\n",
    "    ([4, 5], \"Fail\"),\n",
    "    ([5, 6], \"Fail\"),\n",
    "    ([10, 8], \"Pass\"),\n",
    "    ([9, 7], \"Pass\")\n",
    "]\n",
    "\n",
    "# New student to predict\n",
    "X_new = [6, 6]\n",
    "\n",
    "\n",
    "\n",
    "import math\n",
    "from collections import defaultdict\n",
    "\n",
    "# 1. Organize data by class\n",
    "def separate_by_class(data):\n",
    "    separated = defaultdict(list)\n",
    "    for features, label in data:\n",
    "        separated[label].append(features)\n",
    "    return separated\n",
    "\n",
    "# 2. Calculate mean and variance\n",
    "def mean(numbers):\n",
    "    return sum(numbers) / len(numbers)\n",
    "\n",
    "def variance(numbers, mean_val):\n",
    "    return sum((x - mean_val) ** 2 for x in numbers) / len(numbers)\n",
    "\n",
    "def summarize_class_data(data):\n",
    "    summaries = {}\n",
    "    for cls, rows in data.items():\n",
    "        # Transpose rows to get each feature separately\n",
    "        features = list(zip(*rows))\n",
    "        summaries[cls] = [(mean(f), variance(f, mean(f))) for f in features]\n",
    "    return summaries\n",
    "\n",
    "# 3. Gaussian Probability Density Function\n",
    "def gaussian_pdf(x, mean, var):\n",
    "    if var == 0:\n",
    "        return 1.0 if x == mean else 0.0  # Handle zero variance\n",
    "    exponent = math.exp(-((x - mean) ** 2) / (2 * var))\n",
    "    return (1 / math.sqrt(2 * math.pi * var)) * exponent\n",
    "\n",
    "# 4. Class probabilities\n",
    "def calculate_class_probabilities(summaries, input_data, class_priors):\n",
    "    probabilities = {}\n",
    "    for cls, feature_stats in summaries.items():\n",
    "        probabilities[cls] = class_priors[cls]\n",
    "        for i in range(len(input_data)):\n",
    "            mean, var = feature_stats[i]\n",
    "            prob = gaussian_pdf(input_data[i], mean, var)\n",
    "            probabilities[cls] *= prob\n",
    "    return probabilities\n",
    "\n",
    "# 5. Predict\n",
    "def predict(data, X_new):\n",
    "    separated = separate_by_class(data)\n",
    "    summaries = summarize_class_data(separated)\n",
    "\n",
    "    total_count = len(data)\n",
    "    class_priors = {cls: len(rows) / total_count for cls, rows in separated.items()}\n",
    "\n",
    "    probs = calculate_class_probabilities(summaries, X_new, class_priors)\n",
    "    predicted_class = max(probs, key=probs.get)\n",
    "    return predicted_class, probs\n",
    "\n",
    "# Run prediction\n",
    "X_new = [6, 6]\n",
    "prediction, probs = predict(data, X_new)\n",
    "\n",
    "print(f\"Predicted class: {prediction}\")\n",
    "print(f\"Class probabilities: {probs}\")"
   ]
  },
  {
   "cell_type": "markdown",
   "id": "51159ab4-62a4-4fba-83b0-a063b162146e",
   "metadata": {},
   "source": [
    "### MultinomialNB from Scratch"
   ]
  },
  {
   "cell_type": "code",
   "execution_count": 68,
   "id": "aca75bc6-14dc-4cf4-95d8-325db3b146de",
   "metadata": {},
   "outputs": [
    {
     "name": "stdout",
     "output_type": "stream",
     "text": [
      "Prediction: Positive\n",
      "Raw scores (log-space): {np.str_('Negative'): np.float64(-8.34729415462084), np.str_('Positive'): np.float64(-5.289984130270146)}\n",
      "Probabilities: {np.str_('Negative'): np.float64(0.044902925977225436), np.str_('Positive'): np.float64(0.9550970740227746)}\n"
     ]
    }
   ],
   "source": [
    "# Data\n",
    "X_train = np.array([\n",
    "    [3, 0, 2, 0],  # Review 1 - Positive\n",
    "    [2, 1, 1, 0],  # Review 2 - Positive\n",
    "    [0, 3, 0, 2],  # Review 3 - Negative\n",
    "    [1, 2, 0, 3]   # Review 4 - Negative\n",
    "])\n",
    "\n",
    "y_train = np.array([\n",
    "    \"Positive\",\n",
    "    \"Positive\",\n",
    "    \"Negative\",\n",
    "    \"Negative\"\n",
    "])\n",
    "\n",
    "# Vocabulary index\n",
    "vocab = [\"love\", \"hate\", \"excellent\", \"boring\"]\n",
    "n_classes = len(np.unique(y_train))\n",
    "classes = np.unique(y_train)\n",
    "\n",
    "# Laplace smoothing parameter\n",
    "alpha = 1\n",
    "\n",
    "# Step 1: Prior probabilities P(y)\n",
    "priors = {}\n",
    "for label in classes:\n",
    "    priors[label] = np.sum(y_train == label) / len(y_train)\n",
    "\n",
    "# Step 2: Likelihood probabilities theta_yi\n",
    "likelihoods = {}\n",
    "\n",
    "for label in classes:\n",
    "    # Filter samples of this class\n",
    "    X_class = X_train[y_train == label]\n",
    "   \n",
    "    # Sum word counts for this class\n",
    "    word_counts = np.sum(X_class, axis=0)\n",
    "   \n",
    "    # Total words (with Laplace smoothing denominator)\n",
    "    total_words = np.sum(word_counts)\n",
    "   \n",
    "    # Calculate likelihoods with Laplace smoothing\n",
    "    likelihoods[label] = (word_counts + alpha) / (total_words + alpha * len(vocab))\n",
    "\n",
    "# Step 3: Predict function\n",
    "def predict(X_test):\n",
    "    scores = {}\n",
    "   \n",
    "    for label in classes:\n",
    "        # Start with log(P(y))\n",
    "        score = np.log(priors[label])\n",
    "       \n",
    "        for i in range(len(vocab)):\n",
    "            # Add log(θ_yi) * count of word i\n",
    "            score += X_test[i] * np.log(likelihoods[label][i])\n",
    "       \n",
    "        scores[label] = score\n",
    "   \n",
    "    # Return label with highest score\n",
    "    return max(scores, key=scores.get), scores\n",
    "\n",
    "# New review\n",
    "X_test = np.array([2, 1, 1, 0])\n",
    "\n",
    "# Predict\n",
    "prediction, raw_scores = predict(X_test)\n",
    "\n",
    "print(\"Prediction:\", prediction)\n",
    "print(\"Raw scores (log-space):\", raw_scores)\n",
    "\n",
    "# Optional: If you want raw probabilities instead of logs\n",
    "def softmax(log_scores):\n",
    "    values = np.array(list(log_scores.values()))\n",
    "    max_log = np.max(values)  # for numerical stability\n",
    "    exp_scores = np.exp(values - max_log)\n",
    "    probs = exp_scores / np.sum(exp_scores)\n",
    "    return dict(zip(log_scores.keys(), probs))\n",
    "\n",
    "print(\"Probabilities:\", softmax(raw_scores))"
   ]
  },
  {
   "cell_type": "markdown",
   "id": "a10dc93d-4ddf-4106-9a93-56bee8b09a94",
   "metadata": {},
   "source": [
    "### visualize how Bayes' Theorem updates our beliefs using a probability chart."
   ]
  },
  {
   "cell_type": "code",
   "execution_count": 7,
   "id": "7f898aad-1289-4878-b1e6-ddc7909756ef",
   "metadata": {},
   "outputs": [
    {
     "data": {
      "image/png": "[encoded data removed]",
      "text/plain": [
       "<Figure size 800x500 with 1 Axes>"
      ]
     },
     "metadata": {},
     "output_type": "display_data"
    }
   ],
   "source": [
    "# Function to compute posterior probability using Bayes' Theorem\n",
    "def bayes_theorem(prior_A, likelihood_B_given_A, false_positive_B_given_not_A):\n",
    "    prob_B = (likelihood_B_given_A * prior_A) + (false_positive_B_given_not_A * (1 - prior_A))\n",
    "    posterior_A_given_B = (likelihood_B_given_A * prior_A) / prob_B\n",
    "    return posterior_A_given_B\n",
    "\n",
    "# Define a range of prior probabilities (how common the disease is in the population)\n",
    "prior_probs = np.linspace(0.001, 0.2, 100)  # From 0.1% to 20% prevalence\n",
    "\n",
    "# Fixed likelihoods (from medical test example)\n",
    "likelihood_test_given_disease = 0.9  # Sensitivity (True Positive Rate)\n",
    "false_positive_test = 0.05  # False Positive Rate\n",
    "\n",
    "# Compute posterior probabilities for different priors\n",
    "posterior_probs = [bayes_theorem(p, likelihood_test_given_disease, false_positive_test) for p in prior_probs]\n",
    "\n",
    "# Plot the results\n",
    "plt.figure(figsize=(8, 5))\n",
    "plt.plot(prior_probs, posterior_probs, label=\"Updated Probability (Posterior)\", color=\"blue\", lw=2)\n",
    "plt.plot(prior_probs, prior_probs, linestyle=\"dashed\", color=\"gray\", label=\"Prior Probability (Baseline)\")\n",
    "\n",
    "# Labels and title\n",
    "plt.xlabel(\"Prior Probability (How common the disease is)\")\n",
    "plt.ylabel(\"Posterior Probability (After positive test)\")\n",
    "plt.title(\"Bayes' Theorem: Updating Beliefs with Evidence\")\n",
    "plt.legend()\n",
    "plt.grid(True)\n",
    "\n",
    "# Show the plot\n",
    "plt.show()"
   ]
  },
  {
   "cell_type": "markdown",
   "id": "6b91e9d7-1ee0-4387-9fe4-1f96e8eca1a6",
   "metadata": {},
   "source": [
    "`The blue curve shows how the probability of actually having the disease (posterior probability) changes based on the initial assumption of how common the disease is (prior probability).` <br>\n",
    "`The dashed gray line represents a baseline where prior and posterior are equal (i.e., no update from evidence).`\n",
    "\n",
    "#### 🔹 Key Insights:\n",
    "\n",
    "`If the disease is very rare (left side), even a positive test doesn't make us very confident that a person has it.` <br>\n",
    "`If the disease is common (right side), the test strengthens our belief much more.` <br>\n",
    "`This shows why false positives matter more for rare conditions!`"
   ]
  }
 ],
 "metadata": {
  "kernelspec": {
   "display_name": "Python 3 (ipykernel)",
   "language": "python",
   "name": "python3"
  },
  "language_info": {
   "codemirror_mode": {
    "name": "ipython",
    "version": 3
   },
   "file_extension": ".py",
   "mimetype": "text/x-python",
   "name": "python",
   "nbconvert_exporter": "python",
   "pygments_lexer": "ipython3",
   "version": "3.12.9"
  },
  "widgets": {
   "application/vnd.jupyter.widget-state+json": {
    "state": {},
    "version_major": 2,
    "version_minor": 0
   }
  }
 },
 "nbformat": 4,
 "nbformat_minor": 5
}
